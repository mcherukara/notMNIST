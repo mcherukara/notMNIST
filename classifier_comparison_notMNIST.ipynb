{
 "cells": [
  {
   "cell_type": "code",
   "execution_count": 1,
   "metadata": {
    "cellView": "both",
    "colab": {
     "autoexec": {
      "startup": false,
      "wait_interval": 0
     }
    },
    "colab_type": "code",
    "id": "apJbCsBHl-2A"
   },
   "outputs": [],
   "source": [
    "from __future__ import print_function\n",
    "import imageio\n",
    "import matplotlib.pyplot as plt\n",
    "import numpy as np\n",
    "import os\n",
    "import sys\n",
    "import tarfile\n",
    "from IPython.display import display, Image\n",
    "from sklearn.linear_model import LogisticRegression\n",
    "from six.moves.urllib.request import urlretrieve\n",
    "from six.moves import cPickle as pickle\n",
    "\n",
    "# Config the matplotlib backend as plotting inline in IPython\n",
    "%matplotlib inline"
   ]
  },
  {
   "cell_type": "markdown",
   "metadata": {},
   "source": [
    "# Reload all data from before"
   ]
  },
  {
   "cell_type": "code",
   "execution_count": 2,
   "metadata": {},
   "outputs": [
    {
     "name": "stdout",
     "output_type": "stream",
     "text": [
      "Done\n"
     ]
    }
   ],
   "source": [
    "import cPickle as pickle\n",
    "data_root = '.'\n",
    "pickle_file = os.path.join(data_root, 'notMNIST.pickle')\n",
    "ifile=open(pickle_file, 'r')\n",
    "data=pickle.load(ifile)\n",
    "ifile.close()\n",
    "\n",
    "train_dataset=data['train_dataset']\n",
    "train_labels=data['train_labels']\n",
    "valid_dataset=data['valid_dataset']\n",
    "valid_labels=data['valid_labels']\n",
    "test_dataset=data['test_dataset']\n",
    "test_labels=data['test_labels']\n",
    "print (\"Done\")"
   ]
  },
  {
   "cell_type": "code",
   "execution_count": 6,
   "metadata": {},
   "outputs": [
    {
     "name": "stdout",
     "output_type": "stream",
     "text": [
      "(200000, 28, 28)\n",
      "(200000, 784)\n",
      "Training using 20000 examples\n",
      "Linear SVM\n",
      "Accuracy: 0.8974\n",
      "Time to train: 200.750 s\n",
      "\n",
      "Decision Tree\n",
      "Accuracy: 0.8299\n",
      "Time to train: 8.029 s\n",
      "\n",
      "Random Forest\n",
      "Accuracy: 0.9213\n",
      "Time to train: 2.482 s\n",
      "\n",
      "Neural Net\n",
      "Accuracy: 0.9162\n",
      "Time to train: 9.277 s\n",
      "\n",
      "Naive Bayes\n",
      "Accuracy: 0.8049\n",
      "Time to train: 0.797 s\n",
      "\n",
      "LogisticRegression\n",
      "Accuracy: 0.8755\n",
      "Time to train: 135.134 s\n",
      "\n"
     ]
    }
   ],
   "source": [
    "dims=train_dataset.shape\n",
    "print (dims)\n",
    "trainee=train_dataset.reshape(dims[0],dims[1]*dims[2])\n",
    "dims=test_dataset.shape\n",
    "testee=test_dataset.reshape(dims[0],dims[1]*dims[2])\n",
    "print (trainee.shape)\n",
    "\n",
    "import numpy as np\n",
    "import time\n",
    "import matplotlib.pyplot as plt\n",
    "from matplotlib.colors import ListedColormap\n",
    "from sklearn.model_selection import train_test_split\n",
    "from sklearn.preprocessing import StandardScaler\n",
    "from sklearn.datasets import make_moons, make_circles, make_classification\n",
    "from sklearn.neural_network import MLPClassifier\n",
    "from sklearn.neighbors import KNeighborsClassifier\n",
    "from sklearn.svm import SVC\n",
    "from sklearn.gaussian_process import GaussianProcessClassifier\n",
    "from sklearn.gaussian_process.kernels import RBF\n",
    "from sklearn.tree import DecisionTreeClassifier\n",
    "from sklearn.ensemble import RandomForestClassifier, AdaBoostClassifier, GradientBoostingClassifier\n",
    "from sklearn.naive_bayes import GaussianNB\n",
    "from sklearn.discriminant_analysis import QuadraticDiscriminantAnalysis\n",
    "from sklearn.linear_model import LogisticRegression\n",
    "\n",
    "names = [#\"Nearest Neighbors\", \n",
    "         \"Linear SVM\", #\"RBF SVM\", #\"Gaussian Process\",\n",
    "         \"Decision Tree\", \"Random Forest\", \"Neural Net\", #\"AdaBoost\",\n",
    "        \"Naive Bayes\", \"LogisticRegression\"]#, \"GBoost\"]\n",
    "\n",
    "classifiers = [\n",
    "#    KNeighborsClassifier(5), #No of neighs to use\n",
    "    SVC(kernel=\"linear\", C=0.025),\n",
    "#    SVC(gamma=2, C=1),\n",
    "#    GaussianProcessClassifier(1.0 * RBF(1.0)),\n",
    "    DecisionTreeClassifier(max_depth=15),\n",
    "#    RandomForestClassifier(max_depth=15, n_estimators=50, max_features=15,n_jobs=4),\n",
    "    RandomForestClassifier(max_depth=25, n_estimators=50, max_features=25,n_jobs=4),\n",
    "        #n_estimators= number of trees, max_features=no of features to distinguish on\n",
    "        #max_depth is self explanatory\n",
    "    MLPClassifier(alpha=1),\n",
    "#    AdaBoostClassifier(),\n",
    "    GaussianNB(),\n",
    "#    QuadraticDiscriminantAnalysis(),\n",
    "     LogisticRegression()]\n",
    "#    GradientBoostingClassifier(n_estimators=100, learning_rate=0.1, max_depth=10)]\n",
    "\n",
    "\n",
    "\n",
    "test_size=20000\n",
    "print (\"Training using %d examples\" %test_size)\n",
    "    # iterate over classifiers\n",
    "for name, clf in zip(names, classifiers):\n",
    "        t0 = time.time()\n",
    "        clf.fit(trainee[:test_size], train_labels[:test_size])\n",
    "        score = clf.score(testee[:test_size], test_labels[:test_size])\n",
    "        print (name)\n",
    "        print (\"Accuracy:\", score)\n",
    "        run_time = time.time() - t0\n",
    "        print('Time to train: %.3f s\\n' % run_time)"
   ]
  },
  {
   "cell_type": "code",
   "execution_count": null,
   "metadata": {
    "collapsed": true
   },
   "outputs": [],
   "source": []
  }
 ],
 "metadata": {
  "colab": {
   "default_view": {},
   "name": "1_notmnist.ipynb",
   "provenance": [],
   "version": "0.3.2",
   "views": {}
  },
  "kernelspec": {
   "display_name": "Python 2",
   "language": "python",
   "name": "python2"
  },
  "language_info": {
   "codemirror_mode": {
    "name": "ipython",
    "version": 2
   },
   "file_extension": ".py",
   "mimetype": "text/x-python",
   "name": "python",
   "nbconvert_exporter": "python",
   "pygments_lexer": "ipython2",
   "version": "2.7.14"
  }
 },
 "nbformat": 4,
 "nbformat_minor": 1
}
