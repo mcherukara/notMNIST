{
 "cells": [
  {
   "cell_type": "code",
   "execution_count": 1,
   "metadata": {
    "cellView": "both",
    "colab": {
     "autoexec": {
      "startup": false,
      "wait_interval": 0
     }
    },
    "colab_type": "code",
    "id": "apJbCsBHl-2A"
   },
   "outputs": [
    {
     "name": "stderr",
     "output_type": "stream",
     "text": [
      "Using TensorFlow backend.\n"
     ]
    }
   ],
   "source": [
    "#Choose GPUs and CPUs\n",
    "\n",
    "#If want to choose GPU to use\n",
    "import os\n",
    "os.environ[\"CUDA_VISIBLE_DEVICES\"]=\"1\"\n",
    "#This will make it so that only the 0th GPU is visible to TensorFlow.\n",
    "#In your case, you can choose any in the range [0, 3].\n",
    "#If you wanted, for example, the 0th and 2nd GPUs to both be visible, replace \"0\" with \"0,2\"\n",
    "\n",
    "import tensorflow as tf\n",
    "from keras import backend as K\n",
    "\n",
    "GPU=True\n",
    "CPU=False\n",
    "num_cores = 4\n",
    "\n",
    "if GPU:\n",
    "    num_GPU = 1\n",
    "    num_CPU = 1\n",
    "if CPU:\n",
    "    num_CPU = 1\n",
    "    num_GPU = 0\n",
    "\n",
    "config = tf.ConfigProto(intra_op_parallelism_threads=num_cores,\\\n",
    "        inter_op_parallelism_threads=num_cores, allow_soft_placement=True,\\\n",
    "        device_count = {'CPU' : num_CPU, 'GPU' : num_GPU},\\\n",
    "#        gpu_options=tf.GPUOptions(per_process_gpu_memory_fraction=0.5))\n",
    "                       )\n",
    "session = tf.Session(config=config)\n",
    "K.set_session(session)\n",
    "# These are all the modules we'll be using later. Make sure you can import them\n",
    "# before proceeding further.\n",
    "from __future__ import print_function\n",
    "import imageio\n",
    "import matplotlib.pyplot as plt\n",
    "import numpy as np\n",
    "import os\n",
    "import sys\n",
    "import tarfile\n",
    "from IPython.display import display, Image\n",
    "from sklearn.linear_model import LogisticRegression\n",
    "from six.moves.urllib.request import urlretrieve\n",
    "from six.moves import cPickle as pickle\n",
    "\n",
    "# Config the matplotlib backend as plotting inline in IPython\n",
    "%matplotlib inline"
   ]
  },
  {
   "cell_type": "markdown",
   "metadata": {},
   "source": [
    "# Reload all data from before"
   ]
  },
  {
   "cell_type": "code",
   "execution_count": 27,
   "metadata": {},
   "outputs": [
    {
     "name": "stdout",
     "output_type": "stream",
     "text": [
      "Done\n",
      "(200000, 10)\n"
     ]
    }
   ],
   "source": [
    "from keras.models import Sequential\n",
    "from keras.layers import Dense, Dropout, Activation, Flatten\n",
    "from keras import backend as K\n",
    "from keras.utils import to_categorical\n",
    "\n",
    "data_root = '.'\n",
    "pickle_file = os.path.join(data_root, 'notMNIST.pickle')\n",
    "ifile=open(pickle_file, 'r')\n",
    "data=pickle.load(ifile)\n",
    "ifile.close()\n",
    "\n",
    "train_dataset=data['train_dataset']\n",
    "train_labels=data['train_labels']\n",
    "valid_dataset=data['valid_dataset']\n",
    "valid_labels=data['valid_labels']\n",
    "test_dataset=data['test_dataset']\n",
    "test_labels=data['test_labels']\n",
    "print (\"Done\")\n",
    "\n",
    "\n",
    "train_labels=to_categorical(train_labels) #One-hot encoding, converts label to vector\n",
    "test_labels=to_categorical(test_labels)               #with one 1 and rest 0s\n",
    "print (train_labels.shape)"
   ]
  },
  {
   "cell_type": "markdown",
   "metadata": {
    "collapsed": true
   },
   "source": [
    "# Copy data to 3 channels and resample to get 56x56 images"
   ]
  },
  {
   "cell_type": "code",
   "execution_count": 3,
   "metadata": {},
   "outputs": [
    {
     "name": "stderr",
     "output_type": "stream",
     "text": [
      "  4%|▍         | 7827/200000 [00:00<00:02, 78238.74it/s]"
     ]
    },
    {
     "name": "stdout",
     "output_type": "stream",
     "text": [
      "(200000, 28, 28)\n",
      "(200000, 28, 28, 1)\n",
      "(200000, 28, 28)\n",
      "(200000, 28, 28, 1)\n",
      "(200000, 28, 28, 3)\n"
     ]
    },
    {
     "name": "stderr",
     "output_type": "stream",
     "text": [
      "100%|██████████| 200000/200000 [00:02<00:00, 89893.63it/s]\n"
     ]
    }
   ],
   "source": [
    "dims=train_dataset.shape\n",
    "print (dims)\n",
    "trainee=train_dataset.reshape(dims[0],dims[1],dims[2],1)\n",
    "dims=test_dataset.shape\n",
    "testee=test_dataset.reshape(dims[0],dims[1],dims[2],1)\n",
    "print (trainee.shape)\n",
    "\n",
    "dims=train_dataset.shape\n",
    "print (dims)\n",
    "print (trainee.shape)\n",
    "#VGG needs 3 channels, so repeat data\n",
    "from tqdm import tqdm\n",
    "dims=dims+(3,)#--THIS IS NEAT!\n",
    "print (dims)\n",
    "dataset3=np.zeros(dims,float)\n",
    "for i in tqdm(range(dims[0])):\n",
    "    dataset3[i,:,:,0],dataset3[i,:,:,1],dataset3[i,:,:,2]=train_dataset[i,:,:],train_dataset[i,:,:],train_dataset[i,:,:]"
   ]
  },
  {
   "cell_type": "code",
   "execution_count": 4,
   "metadata": {},
   "outputs": [
    {
     "name": "stderr",
     "output_type": "stream",
     "text": [
      "  0%|          | 114/200000 [00:00<02:55, 1136.99it/s]"
     ]
    },
    {
     "name": "stdout",
     "output_type": "stream",
     "text": [
      "(200000, 28, 28, 3)\n"
     ]
    },
    {
     "name": "stderr",
     "output_type": "stream",
     "text": [
      "100%|██████████| 200000/200000 [02:52<00:00, 1162.41it/s]\n"
     ]
    },
    {
     "name": "stdout",
     "output_type": "stream",
     "text": [
      "(200000, 56, 56, 3)\n"
     ]
    }
   ],
   "source": [
    "print (dataset3.shape)\n",
    "#VGG needs atleast 48x48, so resample\n",
    "def resample(diff3D,Nx,Ny): #Center and resample diffraction array to desired pixel spacing\n",
    "    nx, ny, nz = diff3D.shape\n",
    "    diff3D=zoom(diff3D, (float(Nx)/nx,float(Ny)/ny, 1), order=1)\n",
    "    return diff3D\n",
    "\n",
    "data=[]\n",
    "from scipy.ndimage.interpolation import zoom\n",
    "for i in tqdm(range(dims[0])):\n",
    "    tmp=resample(dataset3[i,:,:,:],56,56)\n",
    "    data.append(tmp)\n",
    "\n",
    "dataset3=np.asarray(data)\n",
    "print (dataset3.shape)"
   ]
  },
  {
   "cell_type": "code",
   "execution_count": 5,
   "metadata": {},
   "outputs": [
    {
     "name": "stdout",
     "output_type": "stream",
     "text": [
      "(28, 28, 3)\n",
      "-0.5\n"
     ]
    },
    {
     "data": {
      "text/plain": [
       "<matplotlib.image.AxesImage at 0x7f49b8172ed0>"
      ]
     },
     "execution_count": 5,
     "metadata": {},
     "output_type": "execute_result"
    },
    {
     "data": {
      "image/png": "[encoded data removed]",
      "text/plain": [
       "<matplotlib.figure.Figure at 0x7f4a54386550>"
      ]
     },
     "metadata": {},
     "output_type": "display_data"
    }
   ],
   "source": [
    "tmp=np.asarray([train_dataset[0,:,:],train_dataset[0,:,:],train_dataset[0,:,:]]).T\n",
    "print (tmp.shape)\n",
    "print (np.min(train_dataset[0,:,:])), (np.max(train_dataset[0,:,:]))\n",
    "\n",
    "plt.imshow(dataset3[2,:,:,1])"
   ]
  },
  {
   "cell_type": "code",
   "execution_count": 6,
   "metadata": {},
   "outputs": [
    {
     "data": {
      "text/plain": [
       "<matplotlib.image.AxesImage at 0x7f49b809c650>"
      ]
     },
     "execution_count": 6,
     "metadata": {},
     "output_type": "execute_result"
    },
    {
     "data": {
      "image/png": "[encoded data removed]",
      "text/plain": [
       "<matplotlib.figure.Figure at 0x7f49b8151c10>"
      ]
     },
     "metadata": {},
     "output_type": "display_data"
    }
   ],
   "source": [
    "plt.imshow(train_dataset[2,:,:])"
   ]
  },
  {
   "cell_type": "code",
   "execution_count": null,
   "metadata": {
    "collapsed": true
   },
   "outputs": [],
   "source": []
  },
  {
   "cell_type": "code",
   "execution_count": 7,
   "metadata": {},
   "outputs": [
    {
     "name": "stdout",
     "output_type": "stream",
     "text": [
      "_________________________________________________________________\n",
      "Layer (type)                 Output Shape              Param #   \n",
      "=================================================================\n",
      "input_1 (InputLayer)         (None, 56, 56, 3)         0         \n",
      "_________________________________________________________________\n",
      "block1_conv1 (Conv2D)        (None, 56, 56, 64)        1792      \n",
      "_________________________________________________________________\n",
      "block1_conv2 (Conv2D)        (None, 56, 56, 64)        36928     \n",
      "_________________________________________________________________\n",
      "block1_pool (MaxPooling2D)   (None, 28, 28, 64)        0         \n",
      "_________________________________________________________________\n",
      "block2_conv1 (Conv2D)        (None, 28, 28, 128)       73856     \n",
      "_________________________________________________________________\n",
      "block2_conv2 (Conv2D)        (None, 28, 28, 128)       147584    \n",
      "_________________________________________________________________\n",
      "block2_pool (MaxPooling2D)   (None, 14, 14, 128)       0         \n",
      "_________________________________________________________________\n",
      "block3_conv1 (Conv2D)        (None, 14, 14, 256)       295168    \n",
      "_________________________________________________________________\n",
      "block3_conv2 (Conv2D)        (None, 14, 14, 256)       590080    \n",
      "_________________________________________________________________\n",
      "block3_conv3 (Conv2D)        (None, 14, 14, 256)       590080    \n",
      "_________________________________________________________________\n",
      "block3_pool (MaxPooling2D)   (None, 7, 7, 256)         0         \n",
      "_________________________________________________________________\n",
      "block4_conv1 (Conv2D)        (None, 7, 7, 512)         1180160   \n",
      "_________________________________________________________________\n",
      "block4_conv2 (Conv2D)        (None, 7, 7, 512)         2359808   \n",
      "_________________________________________________________________\n",
      "block4_conv3 (Conv2D)        (None, 7, 7, 512)         2359808   \n",
      "_________________________________________________________________\n",
      "block4_pool (MaxPooling2D)   (None, 3, 3, 512)         0         \n",
      "_________________________________________________________________\n",
      "block5_conv1 (Conv2D)        (None, 3, 3, 512)         2359808   \n",
      "_________________________________________________________________\n",
      "block5_conv2 (Conv2D)        (None, 3, 3, 512)         2359808   \n",
      "_________________________________________________________________\n",
      "block5_conv3 (Conv2D)        (None, 3, 3, 512)         2359808   \n",
      "_________________________________________________________________\n",
      "block5_pool (MaxPooling2D)   (None, 1, 1, 512)         0         \n",
      "_________________________________________________________________\n",
      "flatten_1 (Flatten)          (None, 512)               0         \n",
      "_________________________________________________________________\n",
      "dense_1 (Dense)              (None, 10)                5130      \n",
      "=================================================================\n",
      "Total params: 14,719,818\n",
      "Trainable params: 7,084,554\n",
      "Non-trainable params: 7,635,264\n",
      "_________________________________________________________________\n",
      "None\n",
      "Train on 180000 samples, validate on 20000 samples\n",
      "Epoch 1/10\n",
      "180000/180000 [==============================] - 283s 2ms/step - loss: 0.4711 - acc: 0.8583 - val_loss: 0.3377 - val_acc: 0.8977\n",
      "Epoch 2/10\n",
      "180000/180000 [==============================] - 281s 2ms/step - loss: 0.3031 - acc: 0.9080 - val_loss: 0.2999 - val_acc: 0.9091\n",
      "Epoch 3/10\n",
      "180000/180000 [==============================] - 282s 2ms/step - loss: 0.2675 - acc: 0.9188 - val_loss: 0.2793 - val_acc: 0.9157\n",
      "Epoch 4/10\n",
      "180000/180000 [==============================] - 280s 2ms/step - loss: 0.2441 - acc: 0.9259 - val_loss: 0.2712 - val_acc: 0.9171\n",
      "Epoch 5/10\n",
      "180000/180000 [==============================] - 277s 2ms/step - loss: 0.2265 - acc: 0.9307 - val_loss: 0.2615 - val_acc: 0.9204\n",
      "Epoch 6/10\n",
      "180000/180000 [==============================] - 282s 2ms/step - loss: 0.2113 - acc: 0.9352 - val_loss: 0.2552 - val_acc: 0.9214\n",
      "Epoch 7/10\n",
      "180000/180000 [==============================] - 280s 2ms/step - loss: 0.1983 - acc: 0.9389 - val_loss: 0.2553 - val_acc: 0.9219\n",
      "Epoch 8/10\n",
      "180000/180000 [==============================] - 280s 2ms/step - loss: 0.1860 - acc: 0.9430 - val_loss: 0.2504 - val_acc: 0.9248\n",
      "Epoch 9/10\n",
      "180000/180000 [==============================] - 280s 2ms/step - loss: 0.1749 - acc: 0.9465 - val_loss: 0.2468 - val_acc: 0.9262\n",
      "Epoch 10/10\n",
      "180000/180000 [==============================] - 282s 2ms/step - loss: 0.1645 - acc: 0.9496 - val_loss: 0.2432 - val_acc: 0.9272\n"
     ]
    }
   ],
   "source": [
    "K.clear_session()\n",
    "batch_size=200\n",
    "epochs=10\n",
    "Nc=56\n",
    "n_labels=10\n",
    "labels=train_labels\n",
    "\n",
    "import keras\n",
    "from keras.applications.vgg16 import VGG16\n",
    "from keras.optimizers import SGD\n",
    "from keras.models import Model, load_model\n",
    "from keras.layers import GlobalMaxPooling2D\n",
    "from keras.utils import np_utils\n",
    "\n",
    "base_model=VGG16(input_shape=(Nc,Nc,3), \n",
    "                 weights='imagenet', include_top=False)\n",
    "#base_model.layers.pop() #Pop out the current logistic layer\n",
    "tmp = base_model.output\n",
    "\n",
    "#Add a fully connected layer\n",
    "tmp=Flatten()(tmp)\n",
    "#tmp=GlobalMaxPooling2D(data_format='channels_last')(tmp)\n",
    "# and a logistic layer -- let's say we have 200 classes\n",
    "predictions = Dense(n_labels, activation='softmax')(tmp)\n",
    "\n",
    "# this is the model we will train\n",
    "model = Model(inputs=base_model.input, outputs=predictions)\n",
    "\n",
    "for layer in model.layers[:15]:\n",
    "    layer.trainable = False #Fix the first 15 layers\n",
    "    \n",
    "sgd = SGD(lr=1e-3, decay=1e-6, momentum=0.9, nesterov=True)\n",
    "#Initial learning rate of 0.001, which is smaller than the learning rate for training scratch model (usually 0.01).\n",
    "model.compile(optimizer=sgd, loss='categorical_crossentropy', metrics=['accuracy'])\n",
    "\n",
    "#Save model every epoch\n",
    "checkpoints=keras.callbacks.ModelCheckpoint('vgg_weights/weights.{epoch:02d}.hdf5', monitor='val_loss', \n",
    "                                verbose=0, save_best_only=False, save_weights_only=False, mode='auto', period=1)\n",
    "\n",
    "print (model.summary())\n",
    "\n",
    "#                print \"Training ...\"\n",
    "history=model.fit(dataset3, labels,\n",
    "                #np_utils.to_categorical(labels,n_labels),  \n",
    "                batch_size=batch_size, epochs=epochs, verbose=1, validation_split = 0.1, callbacks=[checkpoints])"
   ]
  },
  {
   "cell_type": "code",
   "execution_count": 37,
   "metadata": {
    "collapsed": true
   },
   "outputs": [],
   "source": [
    "model.save('current.h5')\n",
    "hist=history\n",
    "epochs=np.asarray(history.epoch)+1"
   ]
  },
  {
   "cell_type": "code",
   "execution_count": 38,
   "metadata": {},
   "outputs": [
    {
     "data": {
      "image/png": "[encoded data removed]",
      "text/plain": [
       "<matplotlib.figure.Figure at 0x7f49b92dec90>"
      ]
     },
     "metadata": {},
     "output_type": "display_data"
    }
   ],
   "source": [
    "%matplotlib inline\n",
    "import matplotlib\n",
    "plt.style.use('seaborn-white')\n",
    "matplotlib.rc('font',family='Times New Roman')\n",
    "matplotlib.rcParams['font.size'] = 20\n",
    "\n",
    "f, axarr = plt.subplots(2, sharex=True, figsize=(8, 6))\n",
    "\n",
    "axarr[0].set(ylabel='Loss')\n",
    "axarr[0].plot(epochs,hist.history['loss'], 'C3o', label='Training')\n",
    "axarr[0].plot(epochs,hist.history['val_loss'], 'C3-', label='Validation')\n",
    "axarr[0].grid()\n",
    "axarr[0].legend(loc='center right', bbox_to_anchor=(1.5, 0.5))\n",
    "\n",
    "\n",
    "axarr[1].plot(epochs,hist.history['acc'], 'C0o', label='Training')\n",
    "axarr[1].plot(epochs,hist.history['val_acc'], 'C0-', label='Validation')\n",
    "plt.legend(loc='center right', bbox_to_anchor=(1.5, 0.5))\n",
    "plt.xlabel('Epochs')\n",
    "plt.ylabel('Accuracy')\n",
    "plt.tight_layout()\n",
    "plt.grid()\n",
    "plt.tick_params(which='both', width=2)\n",
    "plt.tick_params(which='major', length=7)\n",
    "plt.tick_params(which='minor', length=5)\n",
    "\n",
    "#plt.savefig('figs/x_iters.png', dpi=200)"
   ]
  },
  {
   "cell_type": "markdown",
   "metadata": {},
   "source": [
    "# Test data"
   ]
  },
  {
   "cell_type": "code",
   "execution_count": 31,
   "metadata": {},
   "outputs": [
    {
     "name": "stderr",
     "output_type": "stream",
     "text": [
      "100%|██████████| 10000/10000 [00:00<00:00, 87057.23it/s]"
     ]
    },
    {
     "name": "stdout",
     "output_type": "stream",
     "text": [
      "(10000, 28, 28, 3)\n"
     ]
    },
    {
     "name": "stderr",
     "output_type": "stream",
     "text": [
      "\n"
     ]
    }
   ],
   "source": [
    "dims=test_dataset.shape\n",
    "dims=dims+(3,)#--THIS IS NEAT!\n",
    "print (dims)\n",
    "test3=np.zeros(dims,float)\n",
    "for i in tqdm(range(dims[0])):\n",
    "    test3[i,:,:,0],test3[i,:,:,1],test3[i,:,:,2]=test_dataset[i,:,:],test_dataset[i,:,:],test_dataset[i,:,:]"
   ]
  },
  {
   "cell_type": "code",
   "execution_count": 32,
   "metadata": {},
   "outputs": [
    {
     "name": "stderr",
     "output_type": "stream",
     "text": [
      "  1%|          | 122/10000 [00:00<00:08, 1210.41it/s]"
     ]
    },
    {
     "name": "stdout",
     "output_type": "stream",
     "text": [
      "(10000, 28, 28, 3)\n"
     ]
    },
    {
     "name": "stderr",
     "output_type": "stream",
     "text": [
      "100%|██████████| 10000/10000 [00:08<00:00, 1175.15it/s]\n"
     ]
    },
    {
     "name": "stdout",
     "output_type": "stream",
     "text": [
      "(10000, 56, 56, 3)\n"
     ]
    }
   ],
   "source": [
    "print (test3.shape)\n",
    "#VGG needs atleast 48x48, so resample\n",
    "def resample(diff3D,Nx,Ny): #Center and resample diffraction array to desired pixel spacing\n",
    "    nx, ny, nz = diff3D.shape\n",
    "    diff3D=zoom(diff3D, (float(Nx)/nx,float(Ny)/ny, 1), order=1)\n",
    "    return diff3D\n",
    "\n",
    "data=[]\n",
    "from scipy.ndimage.interpolation import zoom\n",
    "for i in tqdm(range(dims[0])):\n",
    "    tmp=resample(test3[i,:,:,:],56,56)\n",
    "    data.append(tmp)\n",
    "\n",
    "test3=np.asarray(data)\n",
    "print (test3.shape)"
   ]
  },
  {
   "cell_type": "code",
   "execution_count": 39,
   "metadata": {},
   "outputs": [
    {
     "data": {
      "text/plain": [
       "<matplotlib.image.AxesImage at 0x7f49b90e0910>"
      ]
     },
     "execution_count": 39,
     "metadata": {},
     "output_type": "execute_result"
    },
    {
     "data": {
      "image/png": "[encoded data removed]",
      "text/plain": [
       "<matplotlib.figure.Figure at 0x7f49b9337b50>"
      ]
     },
     "metadata": {},
     "output_type": "display_data"
    }
   ],
   "source": [
    "plt.imshow(test3[2,:,:,0])"
   ]
  },
  {
   "cell_type": "code",
   "execution_count": 41,
   "metadata": {},
   "outputs": [
    {
     "name": "stdout",
     "output_type": "stream",
     "text": [
      "10000/10000 [==============================] - 17s 2ms/step\n",
      "[0.091249067724496133, 0.9728]\n"
     ]
    }
   ],
   "source": [
    "score=model.evaluate(test3, test_labels, verbose=1)\n",
    "print (score)"
   ]
  },
  {
   "cell_type": "code",
   "execution_count": null,
   "metadata": {
    "collapsed": true
   },
   "outputs": [],
   "source": []
  }
 ],
 "metadata": {
  "colab": {
   "default_view": {},
   "name": "1_notmnist.ipynb",
   "provenance": [],
   "version": "0.3.2",
   "views": {}
  },
  "kernelspec": {
   "display_name": "Python 2",
   "language": "python",
   "name": "python2"
  },
  "language_info": {
   "codemirror_mode": {
    "name": "ipython",
    "version": 2
   },
   "file_extension": ".py",
   "mimetype": "text/x-python",
   "name": "python",
   "nbconvert_exporter": "python",
   "pygments_lexer": "ipython2",
   "version": "2.7.14"
  }
 },
 "nbformat": 4,
 "nbformat_minor": 1
}
