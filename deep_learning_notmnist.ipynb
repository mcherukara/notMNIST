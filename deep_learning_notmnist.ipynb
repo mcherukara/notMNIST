{
 "cells": [
  {
   "cell_type": "code",
   "execution_count": 1,
   "metadata": {
    "cellView": "both",
    "colab": {
     "autoexec": {
      "startup": false,
      "wait_interval": 0
     }
    },
    "colab_type": "code",
    "id": "apJbCsBHl-2A"
   },
   "outputs": [
    {
     "name": "stderr",
     "output_type": "stream",
     "text": [
      "Using TensorFlow backend.\n"
     ]
    }
   ],
   "source": [
    "#Choose GPUs and CPUs\n",
    "\n",
    "#If want to choose GPU to use\n",
    "import os\n",
    "os.environ[\"CUDA_VISIBLE_DEVICES\"]=\"1\"\n",
    "#This will make it so that only the 0th GPU is visible to TensorFlow.\n",
    "#In your case, you can choose any in the range [0, 3].\n",
    "#If you wanted, for example, the 0th and 2nd GPUs to both be visible, replace \"0\" with \"0,2\"\n",
    "\n",
    "import tensorflow as tf\n",
    "from keras import backend as K\n",
    "\n",
    "GPU=True\n",
    "CPU=False\n",
    "num_cores = 4\n",
    "\n",
    "if GPU:\n",
    "    num_GPU = 1\n",
    "    num_CPU = 1\n",
    "if CPU:\n",
    "    num_CPU = 1\n",
    "    num_GPU = 0\n",
    "\n",
    "config = tf.ConfigProto(intra_op_parallelism_threads=num_cores,\\\n",
    "        inter_op_parallelism_threads=num_cores, allow_soft_placement=True,\\\n",
    "        device_count = {'CPU' : num_CPU, 'GPU' : num_GPU},\\\n",
    "#        gpu_options=tf.GPUOptions(per_process_gpu_memory_fraction=0.5))\n",
    "                       )\n",
    "session = tf.Session(config=config)\n",
    "K.set_session(session)\n",
    "# These are all the modules we'll be using later. Make sure you can import them\n",
    "# before proceeding further.\n",
    "from __future__ import print_function\n",
    "import imageio\n",
    "import matplotlib.pyplot as plt\n",
    "import numpy as np\n",
    "import os\n",
    "import sys\n",
    "import tarfile\n",
    "from IPython.display import display, Image\n",
    "from sklearn.linear_model import LogisticRegression\n",
    "from six.moves.urllib.request import urlretrieve\n",
    "from six.moves import cPickle as pickle\n",
    "\n",
    "# Config the matplotlib backend as plotting inline in IPython\n",
    "%matplotlib inline"
   ]
  },
  {
   "cell_type": "markdown",
   "metadata": {},
   "source": [
    "# Reload all data from before"
   ]
  },
  {
   "cell_type": "code",
   "execution_count": 2,
   "metadata": {},
   "outputs": [
    {
     "name": "stdout",
     "output_type": "stream",
     "text": [
      "Done\n",
      "(200000, 10)\n"
     ]
    }
   ],
   "source": [
    "from keras.models import Sequential\n",
    "from keras.layers import Dense, Dropout, Activation, Flatten\n",
    "from keras import backend as K\n",
    "from keras.utils import to_categorical\n",
    "\n",
    "data_root = '.'\n",
    "pickle_file = os.path.join(data_root, 'notMNIST.pickle')\n",
    "ifile=open(pickle_file, 'r')\n",
    "data=pickle.load(ifile)\n",
    "ifile.close()\n",
    "\n",
    "train_dataset=data['train_dataset']\n",
    "train_labels=data['train_labels']\n",
    "valid_dataset=data['valid_dataset']\n",
    "valid_labels=data['valid_labels']\n",
    "test_dataset=data['test_dataset']\n",
    "test_labels=data['test_labels']\n",
    "print (\"Done\")\n",
    "\n",
    "\n",
    "train_labels=to_categorical(train_labels) #One-hot encoding, converts label to vector\n",
    "test_labels=to_categorical(test_labels)               #with one 1 and rest 0s\n",
    "print (train_labels.shape)"
   ]
  },
  {
   "cell_type": "markdown",
   "metadata": {},
   "source": [
    "# Try basic NN, no convolutional layer"
   ]
  },
  {
   "cell_type": "code",
   "execution_count": 3,
   "metadata": {},
   "outputs": [
    {
     "name": "stdout",
     "output_type": "stream",
     "text": [
      "(200000, 28, 28)\n",
      "(200000, 784)\n",
      "_________________________________________________________________\n",
      "Layer (type)                 Output Shape              Param #   \n",
      "=================================================================\n",
      "dense_1 (Dense)              (None, 800)               628000    \n",
      "_________________________________________________________________\n",
      "dropout_1 (Dropout)          (None, 800)               0         \n",
      "_________________________________________________________________\n",
      "dense_2 (Dense)              (None, 400)               320400    \n",
      "_________________________________________________________________\n",
      "dropout_2 (Dropout)          (None, 400)               0         \n",
      "_________________________________________________________________\n",
      "dense_3 (Dense)              (None, 200)               80200     \n",
      "_________________________________________________________________\n",
      "dropout_3 (Dropout)          (None, 200)               0         \n",
      "_________________________________________________________________\n",
      "dense_4 (Dense)              (None, 100)               20100     \n",
      "_________________________________________________________________\n",
      "dropout_4 (Dropout)          (None, 100)               0         \n",
      "_________________________________________________________________\n",
      "dense_5 (Dense)              (None, 50)                5050      \n",
      "_________________________________________________________________\n",
      "dropout_5 (Dropout)          (None, 50)                0         \n",
      "_________________________________________________________________\n",
      "dense_6 (Dense)              (None, 10)                510       \n",
      "=================================================================\n",
      "Total params: 1,054,260\n",
      "Trainable params: 1,054,260\n",
      "Non-trainable params: 0\n",
      "_________________________________________________________________\n",
      "None\n",
      "Epoch 1/20\n",
      "200000/200000 [==============================] - 20s 102us/step - loss: 0.7289 - acc: 0.7856\n",
      "Epoch 2/20\n",
      "200000/200000 [==============================] - 21s 105us/step - loss: 0.5350 - acc: 0.8473\n",
      "Epoch 3/20\n",
      "200000/200000 [==============================] - 19s 97us/step - loss: 0.4932 - acc: 0.8590\n",
      "Epoch 4/20\n",
      "200000/200000 [==============================] - 20s 102us/step - loss: 0.4638 - acc: 0.8667\n",
      "Epoch 5/20\n",
      "200000/200000 [==============================] - 21s 105us/step - loss: 0.4462 - acc: 0.8716\n",
      "Epoch 6/20\n",
      "200000/200000 [==============================] - 21s 107us/step - loss: 0.4306 - acc: 0.8758\n",
      "Epoch 7/20\n",
      "200000/200000 [==============================] - 22s 111us/step - loss: 0.4149 - acc: 0.8797\n",
      "Epoch 8/20\n",
      "200000/200000 [==============================] - 19s 95us/step - loss: 0.4091 - acc: 0.8827\n",
      "Epoch 9/20\n",
      "200000/200000 [==============================] - 20s 100us/step - loss: 0.4000 - acc: 0.8848\n",
      "Epoch 10/20\n",
      "200000/200000 [==============================] - 20s 102us/step - loss: 0.3932 - acc: 0.8868\n",
      "Epoch 11/20\n",
      "200000/200000 [==============================] - 21s 104us/step - loss: 0.3857 - acc: 0.8885\n",
      "Epoch 12/20\n",
      "200000/200000 [==============================] - 20s 98us/step - loss: 0.3818 - acc: 0.8893\n",
      "Epoch 13/20\n",
      "200000/200000 [==============================] - 19s 94us/step - loss: 0.3741 - acc: 0.8913\n",
      "Epoch 14/20\n",
      "200000/200000 [==============================] - 19s 94us/step - loss: 0.3697 - acc: 0.8933\n",
      "Epoch 15/20\n",
      "200000/200000 [==============================] - 19s 95us/step - loss: 0.3658 - acc: 0.8943\n",
      "Epoch 16/20\n",
      "200000/200000 [==============================] - 20s 98us/step - loss: 0.3640 - acc: 0.8945\n",
      "Epoch 17/20\n",
      "200000/200000 [==============================] - 19s 93us/step - loss: 0.3569 - acc: 0.8965\n",
      "Epoch 18/20\n",
      "200000/200000 [==============================] - 20s 98us/step - loss: 0.3552 - acc: 0.8970\n",
      "Epoch 19/20\n",
      "200000/200000 [==============================] - 20s 100us/step - loss: 0.3525 - acc: 0.8981\n",
      "Epoch 20/20\n",
      "200000/200000 [==============================] - 19s 96us/step - loss: 0.3507 - acc: 0.8975\n",
      "10000/10000 [==============================] - 1s 60us/step\n",
      "[0.16482952635772527, 0.95269999999999999]\n"
     ]
    }
   ],
   "source": [
    "#Reshape to 1D array for CNN\n",
    "dims=train_dataset.shape\n",
    "print (dims)\n",
    "trainee=train_dataset.reshape(dims[0],dims[1]*dims[2])\n",
    "dims=test_dataset.shape\n",
    "testee=test_dataset.reshape(dims[0],dims[1]*dims[2])\n",
    "print (trainee.shape)\n",
    "\n",
    "K.clear_session()\n",
    "np.random.seed(123)\n",
    "model=Sequential()\n",
    "model.add(Dense(800, input_shape=(784,), activation='relu')) #Contains 2 layers, input layer\n",
    "                #with 784=shape of object and 1000 node hidden layer\n",
    "model.add(Dropout(0.25))\n",
    "model.add(Dense(400, activation='relu'))\n",
    "model.add(Dropout(0.5))\n",
    "model.add(Dense(200, activation='relu'))\n",
    "model.add(Dropout(0.5))\n",
    "model.add(Dense(100, activation='relu'))\n",
    "model.add(Dropout(0.5))\n",
    "model.add(Dense(50, activation='relu'))\n",
    "model.add(Dropout(0.25))\n",
    "model.add(Dense(10, activation='softmax'))\n",
    "\n",
    "model.compile(loss='categorical_crossentropy',\n",
    "              optimizer='adam',\n",
    "              metrics=['accuracy'])\n",
    "\n",
    "print (model.summary())\n",
    "\n",
    "model.fit(trainee, train_labels, batch_size=100, verbose=1, epochs=20)\n",
    "score=model.evaluate(testee, test_labels, verbose=1)\n",
    "print (score)"
   ]
  },
  {
   "cell_type": "markdown",
   "metadata": {},
   "source": [
    "# O.K now try CNN"
   ]
  },
  {
   "cell_type": "code",
   "execution_count": 5,
   "metadata": {},
   "outputs": [
    {
     "name": "stdout",
     "output_type": "stream",
     "text": [
      "(200000, 28, 28)\n",
      "(200000, 28, 28, 1)\n",
      "_________________________________________________________________\n",
      "Layer (type)                 Output Shape              Param #   \n",
      "=================================================================\n",
      "conv2d_1 (Conv2D)            (None, 26, 26, 32)        320       \n",
      "_________________________________________________________________\n",
      "conv2d_2 (Conv2D)            (None, 24, 24, 32)        9248      \n",
      "_________________________________________________________________\n",
      "max_pooling2d_1 (MaxPooling2 (None, 12, 12, 32)        0         \n",
      "_________________________________________________________________\n",
      "conv2d_3 (Conv2D)            (None, 10, 10, 64)        18496     \n",
      "_________________________________________________________________\n",
      "conv2d_4 (Conv2D)            (None, 8, 8, 64)          36928     \n",
      "_________________________________________________________________\n",
      "max_pooling2d_2 (MaxPooling2 (None, 4, 4, 64)          0         \n",
      "_________________________________________________________________\n",
      "flatten_1 (Flatten)          (None, 1024)              0         \n",
      "_________________________________________________________________\n",
      "dense_1 (Dense)              (None, 1200)              1230000   \n",
      "_________________________________________________________________\n",
      "dropout_1 (Dropout)          (None, 1200)              0         \n",
      "_________________________________________________________________\n",
      "dense_2 (Dense)              (None, 10)                12010     \n",
      "=================================================================\n",
      "Total params: 1,307,002\n",
      "Trainable params: 1,307,002\n",
      "Non-trainable params: 0\n",
      "_________________________________________________________________\n",
      "None\n",
      "Train on 180000 samples, validate on 20000 samples\n",
      "Epoch 1/10\n",
      "180000/180000 [==============================] - 46s 254us/step - loss: 0.4334 - acc: 0.8705 - val_loss: 0.3143 - val_acc: 0.9045\n",
      "Epoch 2/10\n",
      "180000/180000 [==============================] - 45s 250us/step - loss: 0.3009 - acc: 0.9081 - val_loss: 0.2815 - val_acc: 0.9120\n",
      "Epoch 3/10\n",
      "180000/180000 [==============================] - 45s 252us/step - loss: 0.2657 - acc: 0.9185 - val_loss: 0.2677 - val_acc: 0.9191\n",
      "Epoch 4/10\n",
      "180000/180000 [==============================] - 46s 253us/step - loss: 0.2382 - acc: 0.9266 - val_loss: 0.2558 - val_acc: 0.9225\n",
      "Epoch 5/10\n",
      "180000/180000 [==============================] - 46s 255us/step - loss: 0.2166 - acc: 0.9321 - val_loss: 0.2567 - val_acc: 0.9227\n",
      "Epoch 6/10\n",
      "180000/180000 [==============================] - 46s 256us/step - loss: 0.1959 - acc: 0.9385 - val_loss: 0.2440 - val_acc: 0.9271\n",
      "Epoch 7/10\n",
      "180000/180000 [==============================] - 45s 250us/step - loss: 0.1776 - acc: 0.9436 - val_loss: 0.2517 - val_acc: 0.9256\n",
      "Epoch 8/10\n",
      "180000/180000 [==============================] - 45s 250us/step - loss: 0.1620 - acc: 0.9485 - val_loss: 0.2558 - val_acc: 0.9286\n",
      "Epoch 9/10\n",
      "180000/180000 [==============================] - 45s 252us/step - loss: 0.1464 - acc: 0.9530 - val_loss: 0.2600 - val_acc: 0.9275\n",
      "Epoch 10/10\n",
      "180000/180000 [==============================] - 46s 254us/step - loss: 0.1343 - acc: 0.9569 - val_loss: 0.2719 - val_acc: 0.9290\n",
      "10000/10000 [==============================] - 2s 156us/step\n",
      "[0.09496519755739137, 0.9738]\n"
     ]
    }
   ],
   "source": [
    "dims=train_dataset.shape\n",
    "print (dims)\n",
    "trainee=train_dataset.reshape(dims[0],dims[1],dims[2],1)\n",
    "dims=test_dataset.shape\n",
    "testee=test_dataset.reshape(dims[0],dims[1],dims[2],1)\n",
    "print (trainee.shape)\n",
    "\n",
    "\n",
    "from keras.layers import Conv2D, MaxPool2D\n",
    "from keras.models import Sequential\n",
    "from keras.layers import Dense, Dropout, Activation, Flatten\n",
    "from keras import backend as K\n",
    "from keras.utils import to_categorical\n",
    "\n",
    "K.clear_session()\n",
    "np.random.seed(123)\n",
    "model=Sequential()\n",
    "\n",
    "model.add(Conv2D(32,(3,3), activation='relu', input_shape=(28,28,1),data_format='channels_last'))\n",
    "model.add(Conv2D(32,(3,3), activation='relu'))\n",
    "model.add(MaxPool2D(pool_size=(2,2)))\n",
    "model.add(Conv2D(64,(3,3), activation='relu'))\n",
    "model.add(Conv2D(64,(3,3), activation='relu'))\n",
    "model.add(MaxPool2D(pool_size=(2,2)))\n",
    "model.add(Flatten())\n",
    "model.add(Dense(1200, activation='relu'))\n",
    "model.add(Dropout(0.5))\n",
    "model.add(Dense(10, activation='softmax'))\n",
    "\n",
    "model.compile(loss='categorical_crossentropy',\n",
    "              optimizer='adam',\n",
    "              metrics=['accuracy'])\n",
    "\n",
    "print (model.summary())\n",
    "\n",
    "hist=model.fit(trainee, train_labels, batch_size=100, verbose=1, epochs=10, validation_split = 0.1)\n",
    "score=model.evaluate(testee, test_labels, verbose=1)\n",
    "print (score)"
   ]
  },
  {
   "cell_type": "code",
   "execution_count": 7,
   "metadata": {},
   "outputs": [
    {
     "name": "stdout",
     "output_type": "stream",
     "text": [
      "[0, 1, 2, 3, 4, 5, 6, 7, 8, 9]\n"
     ]
    }
   ],
   "source": [
    "hist.history.keys()\n",
    "epochs=hist.epoch\n",
    "print (epochs)"
   ]
  },
  {
   "cell_type": "code",
   "execution_count": 8,
   "metadata": {},
   "outputs": [
    {
     "data": {
      "image/png": "[encoded data removed]",
      "text/plain": [
       "<matplotlib.figure.Figure at 0x7fae3bf945d0>"
      ]
     },
     "metadata": {},
     "output_type": "display_data"
    }
   ],
   "source": [
    "import matplotlib\n",
    "plt.style.use('seaborn-white')\n",
    "#matplotlib.rc('xtick', labelsize=20) \n",
    "#matplotlib.rc('ytick', labelsize=20)\n",
    "matplotlib.rc('font',family='Times New Roman')\n",
    "matplotlib.rcParams['font.size'] = 20\n",
    "plt.plot(epochs,hist.history['loss'], 'C3o', label='Training')\n",
    "plt.plot(epochs,hist.history['val_loss'], 'C3-', label='Validation')\n",
    "plt.legend(loc='center right', bbox_to_anchor=(1.5, 0.5))\n",
    "plt.xlabel('Epochs')\n",
    "plt.ylabel('Loss')\n",
    "plt.tight_layout()\n",
    "plt.grid()\n",
    "plt.tick_params(which='both', width=2)\n",
    "plt.tick_params(which='major', length=7)\n",
    "plt.tick_params(which='minor', length=5)\n",
    "#plt.savefig('figs/x_iters.png', dpi=200)"
   ]
  },
  {
   "cell_type": "code",
   "execution_count": 9,
   "metadata": {},
   "outputs": [
    {
     "data": {
      "image/png": "[encoded data removed]",
      "text/plain": [
       "<matplotlib.figure.Figure at 0x7fae3a9cb890>"
      ]
     },
     "metadata": {},
     "output_type": "display_data"
    }
   ],
   "source": [
    "import matplotlib\n",
    "plt.style.use('seaborn-white')\n",
    "#matplotlib.rc('xtick', labelsize=20) \n",
    "#matplotlib.rc('ytick', labelsize=20)\n",
    "matplotlib.rc('font',family='Times New Roman')\n",
    "matplotlib.rcParams['font.size'] = 20\n",
    "plt.plot(epochs,hist.history['acc'], 'C0o', label='Training')\n",
    "plt.plot(epochs,hist.history['val_acc'], 'C0-', label='Validation')\n",
    "plt.legend(loc='center right', bbox_to_anchor=(1.5, 0.5))\n",
    "plt.xlabel('Epochs')\n",
    "plt.ylabel('Accuracy')\n",
    "plt.tight_layout()\n",
    "plt.grid()\n",
    "plt.tick_params(which='both', width=2)\n",
    "plt.tick_params(which='major', length=7)\n",
    "plt.tick_params(which='minor', length=5)\n",
    "#plt.savefig('figs/x_iters.png', dpi=200)"
   ]
  },
  {
   "cell_type": "markdown",
   "metadata": {},
   "source": [
    "# Repeat but with only 6 epochs (training loss min at epoch 5)"
   ]
  },
  {
   "cell_type": "code",
   "execution_count": 10,
   "metadata": {},
   "outputs": [
    {
     "name": "stdout",
     "output_type": "stream",
     "text": [
      "(200000, 28, 28)\n",
      "(200000, 28, 28, 1)\n",
      "_________________________________________________________________\n",
      "Layer (type)                 Output Shape              Param #   \n",
      "=================================================================\n",
      "conv2d_1 (Conv2D)            (None, 26, 26, 32)        320       \n",
      "_________________________________________________________________\n",
      "conv2d_2 (Conv2D)            (None, 24, 24, 32)        9248      \n",
      "_________________________________________________________________\n",
      "max_pooling2d_1 (MaxPooling2 (None, 12, 12, 32)        0         \n",
      "_________________________________________________________________\n",
      "conv2d_3 (Conv2D)            (None, 10, 10, 64)        18496     \n",
      "_________________________________________________________________\n",
      "conv2d_4 (Conv2D)            (None, 8, 8, 64)          36928     \n",
      "_________________________________________________________________\n",
      "max_pooling2d_2 (MaxPooling2 (None, 4, 4, 64)          0         \n",
      "_________________________________________________________________\n",
      "flatten_1 (Flatten)          (None, 1024)              0         \n",
      "_________________________________________________________________\n",
      "dense_1 (Dense)              (None, 1200)              1230000   \n",
      "_________________________________________________________________\n",
      "dropout_1 (Dropout)          (None, 1200)              0         \n",
      "_________________________________________________________________\n",
      "dense_2 (Dense)              (None, 10)                12010     \n",
      "=================================================================\n",
      "Total params: 1,307,002\n",
      "Trainable params: 1,307,002\n",
      "Non-trainable params: 0\n",
      "_________________________________________________________________\n",
      "None\n",
      "Train on 180000 samples, validate on 20000 samples\n",
      "Epoch 1/6\n",
      "180000/180000 [==============================] - 45s 253us/step - loss: 0.4333 - acc: 0.8701 - val_loss: 0.3129 - val_acc: 0.9047\n",
      "Epoch 2/6\n",
      "180000/180000 [==============================] - 44s 247us/step - loss: 0.3008 - acc: 0.9090 - val_loss: 0.2814 - val_acc: 0.9144\n",
      "Epoch 3/6\n",
      "180000/180000 [==============================] - 46s 254us/step - loss: 0.2657 - acc: 0.9184 - val_loss: 0.2661 - val_acc: 0.9189\n",
      "Epoch 4/6\n",
      "180000/180000 [==============================] - 45s 251us/step - loss: 0.2384 - acc: 0.9261 - val_loss: 0.2560 - val_acc: 0.9218\n",
      "Epoch 5/6\n",
      "180000/180000 [==============================] - 45s 249us/step - loss: 0.2162 - acc: 0.9317 - val_loss: 0.2506 - val_acc: 0.9247\n",
      "Epoch 6/6\n",
      "180000/180000 [==============================] - 45s 249us/step - loss: 0.1965 - acc: 0.9383 - val_loss: 0.2478 - val_acc: 0.9241\n",
      "10000/10000 [==============================] - 1s 132us/step\n",
      "[0.096375180695205925, 0.97219999999999995]\n"
     ]
    }
   ],
   "source": [
    "dims=train_dataset.shape\n",
    "print (dims)\n",
    "trainee=train_dataset.reshape(dims[0],dims[1],dims[2],1)\n",
    "dims=test_dataset.shape\n",
    "testee=test_dataset.reshape(dims[0],dims[1],dims[2],1)\n",
    "print (trainee.shape)\n",
    "\n",
    "\n",
    "from keras.layers import Conv2D, MaxPool2D\n",
    "from keras.models import Sequential\n",
    "from keras.layers import Dense, Dropout, Activation, Flatten\n",
    "from keras import backend as K\n",
    "from keras.utils import to_categorical\n",
    "\n",
    "K.clear_session()\n",
    "np.random.seed(123)\n",
    "model=Sequential()\n",
    "\n",
    "model.add(Conv2D(32,(3,3), activation='relu', input_shape=(28,28,1),data_format='channels_last'))\n",
    "model.add(Conv2D(32,(3,3), activation='relu'))\n",
    "model.add(MaxPool2D(pool_size=(2,2)))\n",
    "model.add(Conv2D(64,(3,3), activation='relu'))\n",
    "model.add(Conv2D(64,(3,3), activation='relu'))\n",
    "model.add(MaxPool2D(pool_size=(2,2)))\n",
    "model.add(Flatten())\n",
    "model.add(Dense(1200, activation='relu'))\n",
    "model.add(Dropout(0.5))\n",
    "model.add(Dense(10, activation='softmax'))\n",
    "\n",
    "model.compile(loss='categorical_crossentropy',\n",
    "              optimizer='adam',\n",
    "              metrics=['accuracy'])\n",
    "\n",
    "print (model.summary())\n",
    "\n",
    "hist2=model.fit(trainee, train_labels, batch_size=100, verbose=1, epochs=6, validation_split = 0.1)\n",
    "score=model.evaluate(testee, test_labels, verbose=1)\n",
    "print (score)"
   ]
  },
  {
   "cell_type": "markdown",
   "metadata": {
    "collapsed": true
   },
   "source": [
    "# Try a pre-trained model"
   ]
  },
  {
   "cell_type": "code",
   "execution_count": 4,
   "metadata": {},
   "outputs": [
    {
     "name": "stderr",
     "output_type": "stream",
     "text": [
      "  4%|▍         | 8241/200000 [00:00<00:02, 82325.29it/s]"
     ]
    },
    {
     "name": "stdout",
     "output_type": "stream",
     "text": [
      "(200000, 28, 28)\n",
      "(200000, 28, 28, 1)\n",
      "(200000, 28, 28)\n",
      "(200000, 28, 28, 1)\n",
      "(200000, 28, 28, 3)\n"
     ]
    },
    {
     "name": "stderr",
     "output_type": "stream",
     "text": [
      "100%|██████████| 200000/200000 [00:02<00:00, 88607.12it/s]\n"
     ]
    }
   ],
   "source": [
    "dims=train_dataset.shape\n",
    "print (dims)\n",
    "trainee=train_dataset.reshape(dims[0],dims[1],dims[2],1)\n",
    "dims=test_dataset.shape\n",
    "testee=test_dataset.reshape(dims[0],dims[1],dims[2],1)\n",
    "print (trainee.shape)\n",
    "\n",
    "dims=train_dataset.shape\n",
    "print (dims)\n",
    "print (trainee.shape)\n",
    "#VGG needs 3 channels, so repeat data\n",
    "from tqdm import tqdm\n",
    "dims=dims+(3,)#--THIS IS NEAT!\n",
    "print (dims)\n",
    "dataset3=np.zeros(dims,float)\n",
    "for i in tqdm(range(dims[0])):\n",
    "    dataset3[i,:,:,0],dataset3[i,:,:,1],dataset3[i,:,:,2]=train_dataset[i,:,:],train_dataset[i,:,:],train_dataset[i,:,:]"
   ]
  },
  {
   "cell_type": "code",
   "execution_count": null,
   "metadata": {},
   "outputs": [
    {
     "name": "stderr",
     "output_type": "stream",
     "text": [
      "  0%|          | 107/200000 [00:00<03:08, 1061.61it/s]"
     ]
    },
    {
     "name": "stdout",
     "output_type": "stream",
     "text": [
      "(200000, 28, 28, 3)\n"
     ]
    },
    {
     "name": "stderr",
     "output_type": "stream",
     "text": [
      "100%|██████████| 200000/200000 [02:51<00:00, 1163.37it/s]\n"
     ]
    }
   ],
   "source": [
    "print (dataset3.shape)\n",
    "#VGG needs atleast 48x48, so resample\n",
    "def resample(diff3D,Nx,Ny): #Center and resample diffraction array to desired pixel spacing\n",
    "    nx, ny, nz = diff3D.shape\n",
    "    diff3D=zoom(diff3D, (float(Nx)/nx,float(Ny)/ny, 1), order=1)\n",
    "    return diff3D\n",
    "\n",
    "data=[]\n",
    "from scipy.ndimage.interpolation import zoom\n",
    "for i in tqdm(range(dims[0])):\n",
    "    tmp=resample(dataset3[i,:,:,:],56,56)\n",
    "    data.append(tmp)\n",
    "\n",
    "dataset3=np.asarray(data)\n",
    "print (dataset3.shape)"
   ]
  },
  {
   "cell_type": "code",
   "execution_count": null,
   "metadata": {},
   "outputs": [],
   "source": [
    "K.clear_session()\n",
    "batch_size=100\n",
    "epochs=10\n",
    "Nc=56\n",
    "n_labels=dataset3.shape[0]\n",
    "labels=train_labels\n",
    "\n",
    "from keras.applications.vgg16 import VGG16\n",
    "from keras.optimizers import SGD\n",
    "from keras.models import Model, load_model\n",
    "from keras.layers import GlobalMaxPooling2D\n",
    "from keras.utils import np_utils\n",
    "\n",
    "base_model=VGG16(input_shape=(Nc,Nc,3), \n",
    "                 weights='imagenet', include_top=False)\n",
    "#base_model.layers.pop() #Pop out the current logistic layer\n",
    "tmp = base_model.output\n",
    "\n",
    "#Add a fully connected layer\n",
    "#tmp=Flatten()(tmp)\n",
    "tmp=GlobalMaxPooling2D(data_format='channels_last')(tmp)\n",
    "# and a logistic layer -- let's say we have 200 classes\n",
    "predictions = Dense(n_labels, activation='softmax')(tmp)\n",
    "\n",
    "# this is the model we will train\n",
    "model = Model(inputs=base_model.input, outputs=predictions)\n",
    "\n",
    "for layer in model.layers[:15]:\n",
    "    layer.trainable = False #Fix the first 17 layers\n",
    "    \n",
    "sgd = SGD(lr=1e-3, decay=1e-6, momentum=0.9, nesterov=True)\n",
    "#Initial learning rate of 0.001, which is smaller than the learning rate for training scratch model (usually 0.01).\n",
    "model.compile(optimizer=sgd, loss='categorical_crossentropy', metrics=['accuracy'])\n",
    "\n",
    "print (model.summary())\n",
    "\n",
    "#                print \"Training ...\"\n",
    "history=model.fit(dataset3, \n",
    "                np_utils.to_categorical(labels,n_labels),  \n",
    "                batch_size=batch_size, epochs=epochs, verbose=1, validation_split = 0.1)"
   ]
  },
  {
   "cell_type": "code",
   "execution_count": null,
   "metadata": {
    "collapsed": true
   },
   "outputs": [],
   "source": []
  }
 ],
 "metadata": {
  "colab": {
   "default_view": {},
   "name": "1_notmnist.ipynb",
   "provenance": [],
   "version": "0.3.2",
   "views": {}
  },
  "kernelspec": {
   "display_name": "Python 2",
   "language": "python",
   "name": "python2"
  },
  "language_info": {
   "codemirror_mode": {
    "name": "ipython",
    "version": 2
   },
   "file_extension": ".py",
   "mimetype": "text/x-python",
   "name": "python",
   "nbconvert_exporter": "python",
   "pygments_lexer": "ipython2",
   "version": "2.7.14"
  }
 },
 "nbformat": 4,
 "nbformat_minor": 1
}
